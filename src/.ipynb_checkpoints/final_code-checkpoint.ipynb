{
 "cells": [
  {
   "cell_type": "markdown",
   "metadata": {
    "colab_type": "text",
    "id": "vpnIsYR1Omcg"
   },
   "source": [
    "## Accesing the drive"
   ]
  },
  {
   "cell_type": "code",
   "execution_count": 1,
   "metadata": {
    "colab": {
     "base_uri": "https://localhost:8080/",
     "height": 124
    },
    "colab_type": "code",
    "executionInfo": {
     "elapsed": 36232,
     "status": "ok",
     "timestamp": 1566710663605,
     "user": {
      "displayName": "Abhishek De",
      "photoUrl": "https://lh3.googleusercontent.com/a-/AAuE7mCIF5hn9-CVTHw3xcM55hznZfwzfyukh6Jt_t4-5A=s64",
      "userId": "05172599137214054283"
     },
     "user_tz": -330
    },
    "id": "7HNpQz6TOgRD",
    "outputId": "45a10b3e-be9b-4982-f322-bd2972074b7a"
   },
   "outputs": [
    {
     "name": "stdout",
     "output_type": "stream",
     "text": [
      "Go to this URL in a browser: https://accounts.google.com/o/oauth2/auth?client_id=947318989803-6bn6qk8qdgf4n4g3pfee6491hc0brc4i.apps.googleusercontent.com&redirect_uri=urn%3Aietf%3Awg%3Aoauth%3A2.0%3Aoob&scope=email%20https%3A%2F%2Fwww.googleapis.com%2Fauth%2Fdocs.test%20https%3A%2F%2Fwww.googleapis.com%2Fauth%2Fdrive%20https%3A%2F%2Fwww.googleapis.com%2Fauth%2Fdrive.photos.readonly%20https%3A%2F%2Fwww.googleapis.com%2Fauth%2Fpeopleapi.readonly&response_type=code\n",
      "\n",
      "Enter your authorization code:\n",
      "··········\n",
      "Mounted at /content/gdrive/\n"
     ]
    }
   ],
   "source": [
    "from google.colab import drive\n",
    "drive.mount('/content/gdrive/')"
   ]
  },
  {
   "cell_type": "code",
   "execution_count": 0,
   "metadata": {
    "colab": {},
    "colab_type": "code",
    "id": "J7LJz0yxPCAL"
   },
   "outputs": [],
   "source": [
    "root_path = 'gdrive/My Drive/Cell_classifier'"
   ]
  },
  {
   "cell_type": "markdown",
   "metadata": {
    "colab_type": "text",
    "id": "I6zlNv-JPQms"
   },
   "source": [
    "## Importing modules"
   ]
  },
  {
   "cell_type": "code",
   "execution_count": 0,
   "metadata": {
    "colab": {},
    "colab_type": "code",
    "id": "Azy93jO6PLY8"
   },
   "outputs": [],
   "source": [
    "import tensorflow as tf"
   ]
  },
  {
   "cell_type": "code",
   "execution_count": 1,
   "metadata": {
    "colab": {},
    "colab_type": "code",
    "id": "ip5orzRmPVJU"
   },
   "outputs": [],
   "source": [
    "from tensorflow.keras.preprocessing.image import load_img\n",
    "from tensorflow.keras.preprocessing.image import img_to_array"
   ]
  },
  {
   "cell_type": "code",
   "execution_count": 2,
   "metadata": {
    "colab": {},
    "colab_type": "code",
    "id": "AO51xBm5PX-r"
   },
   "outputs": [],
   "source": [
    "from tensorflow.keras.models import Sequential\n",
    "from tensorflow.keras.layers import Conv2D\n",
    "from tensorflow.keras.layers import Activation, Flatten, Dense, Dropout\n",
    "from tensorflow.keras.layers import MaxPooling2D"
   ]
  },
  {
   "cell_type": "code",
   "execution_count": 3,
   "metadata": {
    "colab": {},
    "colab_type": "code",
    "id": "rlSJG540PbW1"
   },
   "outputs": [],
   "source": [
    "import numpy as np\n",
    "import pandas as pd"
   ]
  },
  {
   "cell_type": "code",
   "execution_count": 4,
   "metadata": {
    "colab": {},
    "colab_type": "code",
    "id": "R7pDloyDT_v9"
   },
   "outputs": [],
   "source": [
    "from sklearn.model_selection import train_test_split"
   ]
  },
  {
   "cell_type": "markdown",
   "metadata": {
    "colab_type": "text",
    "id": "Jr4Egk4MPlNE"
   },
   "source": [
    "## Loading the training/testing images and labels:"
   ]
  },
  {
   "cell_type": "code",
   "execution_count": 5,
   "metadata": {
    "colab": {},
    "colab_type": "code",
    "id": "Dy0NEHl3QDUY"
   },
   "outputs": [],
   "source": [
    "df = pd.read_csv(\"../data/train.csv\")"
   ]
  },
  {
   "cell_type": "code",
   "execution_count": 9,
   "metadata": {
    "colab": {
     "base_uri": "https://localhost:8080/",
     "height": 34
    },
    "colab_type": "code",
    "executionInfo": {
     "elapsed": 131163,
     "status": "ok",
     "timestamp": 1566711776581,
     "user": {
      "displayName": "Abhishek De",
      "photoUrl": "https://lh3.googleusercontent.com/a-/AAuE7mCIF5hn9-CVTHw3xcM55hznZfwzfyukh6Jt_t4-5A=s64",
      "userId": "05172599137214054283"
     },
     "user_tz": -330
    },
    "id": "SHeA5QQsPtq_",
    "outputId": "336b900d-cd3a-4d9a-fd33-11acd4654465"
   },
   "outputs": [
    {
     "name": "stdout",
     "output_type": "stream",
     "text": [
      "Count:  573\n"
     ]
    }
   ],
   "source": [
    "images = []\n",
    "labels = []\n",
    "no_images = 1001;\n",
    "count = 0\n",
    "\n",
    "for i in range(1,no_images):\n",
    "    try:\n",
    "      image_name = '../data/train_images/f' + str(i) + '.png'\n",
    "      image = load_img(image_name, target_size = (224,224), color_mode = \"grayscale\")\n",
    "      image = img_to_array(image)\n",
    "      images.append(image)\n",
    "      labels.append(df['label'][i-1])\n",
    "      count += 1\n",
    "    except:\n",
    "      pass\n",
    "      \n",
    "print(\"Count: \", count)"
   ]
  },
  {
   "cell_type": "code",
   "execution_count": 0,
   "metadata": {
    "colab": {},
    "colab_type": "code",
    "id": "h_BZHQ-5RtwB"
   },
   "outputs": [],
   "source": [
    "images = np.array(images)\n",
    "labels = np.array(labels)\n",
    "\n",
    "np.save(root_path + '/output/images', images)\n",
    "np.save(root_path + '/output/labels', labels)"
   ]
  },
  {
   "cell_type": "code",
   "execution_count": 0,
   "metadata": {
    "colab": {},
    "colab_type": "code",
    "id": "mGvyNX6PTJgg"
   },
   "outputs": [],
   "source": [
    "(train_images, test_images, train_labels, test_labels) = train_test_split(images, labels, test_size=0.25)"
   ]
  },
  {
   "cell_type": "markdown",
   "metadata": {
    "colab_type": "text",
    "id": "DBkaI_D3UjJg"
   },
   "source": [
    "## CNN Model"
   ]
  },
  {
   "cell_type": "code",
   "execution_count": 0,
   "metadata": {
    "colab": {},
    "colab_type": "code",
    "id": "KujCVoFqUY4_"
   },
   "outputs": [],
   "source": [
    "size = 50\n",
    "\n",
    "class CnnModel:\n",
    "    @staticmethod\n",
    "    def build(width, height, depth, classes):\n",
    "        model = Sequential()\n",
    "        inputShape = (height, width, depth)\n",
    "        \n",
    "        model.add(Conv2D(size,(3,3), padding = \"same\", input_shape = inputShape))\n",
    "        model.add(Activation(\"relu\"))\n",
    "        model.add(MaxPooling2D(pool_size = (3, 3)))\n",
    "        \n",
    "        model.add(Conv2D(size,(3,3), padding = \"same\", input_shape = inputShape))\n",
    "        model.add(Activation(\"relu\"))\n",
    "        model.add(MaxPooling2D(pool_size = (3, 3)))\n",
    "        \n",
    "        model.add(Conv2D(size,(3,3), padding = \"same\", input_shape = inputShape))\n",
    "        model.add(Activation(\"relu\"))\n",
    "        model.add(MaxPooling2D(pool_size = (3, 3)))\n",
    "        model.add(Dropout(0.5))\n",
    "        \n",
    "        model.add(Conv2D(size,(3,3), padding = \"same\" , input_shape = inputShape))\n",
    "        model.add(Activation(\"relu\"))\n",
    "        \n",
    "        model.add(Flatten())\n",
    "        model.add(Activation(\"relu\"))\n",
    "        \n",
    "        model.add(Dense(classes))\n",
    "        model.add(Activation(\"softmax\"))\n",
    "        return model"
   ]
  },
  {
   "cell_type": "markdown",
   "metadata": {
    "colab_type": "text",
    "id": "Pt3CUD_TVm2-"
   },
   "source": [
    "## Model compilation, fitting and evaluation"
   ]
  },
  {
   "cell_type": "code",
   "execution_count": 21,
   "metadata": {
    "colab": {
     "base_uri": "https://localhost:8080/",
     "height": 399
    },
    "colab_type": "code",
    "executionInfo": {
     "elapsed": 245301,
     "status": "ok",
     "timestamp": 1566714168316,
     "user": {
      "displayName": "Abhishek De",
      "photoUrl": "https://lh3.googleusercontent.com/a-/AAuE7mCIF5hn9-CVTHw3xcM55hznZfwzfyukh6Jt_t4-5A=s64",
      "userId": "05172599137214054283"
     },
     "user_tz": -330
    },
    "id": "m7O2InmpVRmQ",
    "outputId": "56bef20b-87b8-4162-a1f6-506e28909ac2"
   },
   "outputs": [
    {
     "name": "stdout",
     "output_type": "stream",
     "text": [
      "Epoch 1/10\n",
      "429/429 [==============================] - 24s 56ms/sample - loss: 8.6484 - acc: 0.0699\n",
      "Epoch 2/10\n",
      "429/429 [==============================] - 24s 55ms/sample - loss: 2.6685 - acc: 0.1142\n",
      "Epoch 3/10\n",
      "429/429 [==============================] - 24s 56ms/sample - loss: 2.5815 - acc: 0.1259\n",
      "Epoch 4/10\n",
      "429/429 [==============================] - 24s 56ms/sample - loss: 2.4862 - acc: 0.1562\n",
      "Epoch 5/10\n",
      "429/429 [==============================] - 24s 56ms/sample - loss: 2.4855 - acc: 0.1678\n",
      "Epoch 6/10\n",
      "429/429 [==============================] - 24s 56ms/sample - loss: 2.3363 - acc: 0.2494\n",
      "Epoch 7/10\n",
      "429/429 [==============================] - 24s 56ms/sample - loss: 2.1307 - acc: 0.2797\n",
      "Epoch 8/10\n",
      "429/429 [==============================] - 24s 56ms/sample - loss: 1.9696 - acc: 0.3287\n",
      "Epoch 9/10\n",
      "429/429 [==============================] - 24s 57ms/sample - loss: 1.9742 - acc: 0.3427\n",
      "Epoch 10/10\n",
      "429/429 [==============================] - 24s 56ms/sample - loss: 1.6543 - acc: 0.4569\n",
      "144/144 [==============================] - 2s 17ms/sample - loss: 1.6456 - acc: 0.4028\n",
      "Test accuracy:  0.4027778\n"
     ]
    }
   ],
   "source": [
    "with tf.device('/gpu:0'):\n",
    "  # Build the model\n",
    "  model = CnnModel.build(width = 224, height = 224, depth = 1, classes = 15)\n",
    "  # Compile the model\n",
    "  model.compile(loss=\"sparse_categorical_crossentropy\",optimizer=\"adam\",metrics=[\"accuracy\"])\n",
    "  # Fit the model with training images and labels\n",
    "  model.fit(train_images, train_labels, epochs = 10)\n",
    "  # Save the weights\n",
    "  model.save_weights(root_path + '/output/model_weights.h5')\n",
    "  # Save the model architecture\n",
    "  with open(root_path + '/output/model_architecture.json', 'w') as f:\n",
    "      f.write(model.to_json())\n",
    "  test_loss, test_acc = model.evaluate(test_images, test_labels)\n",
    "  print(\"Test accuracy: \", test_acc)"
   ]
  },
  {
   "cell_type": "code",
   "execution_count": 0,
   "metadata": {
    "colab": {},
    "colab_type": "code",
    "id": "jhshRzCmVjDh"
   },
   "outputs": [],
   "source": []
  }
 ],
 "metadata": {
  "colab": {
   "collapsed_sections": [
    "vpnIsYR1Omcg",
    "I6zlNv-JPQms"
   ],
   "name": "Untitled0.ipynb",
   "provenance": [],
   "version": "0.3.2"
  },
  "kernelspec": {
   "display_name": "Python 3",
   "language": "python",
   "name": "python3"
  },
  "language_info": {
   "codemirror_mode": {
    "name": "ipython",
    "version": 3
   },
   "file_extension": ".py",
   "mimetype": "text/x-python",
   "name": "python",
   "nbconvert_exporter": "python",
   "pygments_lexer": "ipython3",
   "version": "3.7.3"
  }
 },
 "nbformat": 4,
 "nbformat_minor": 1
}
